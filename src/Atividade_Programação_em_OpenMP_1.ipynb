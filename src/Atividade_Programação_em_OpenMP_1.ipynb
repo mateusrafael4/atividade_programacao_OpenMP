{
  "nbformat": 4,
  "nbformat_minor": 0,
  "metadata": {
    "colab": {
      "provenance": []
    },
    "kernelspec": {
      "name": "python3",
      "display_name": "Python 3"
    },
    "language_info": {
      "name": "python"
    }
  },
  "cells": [
    {
      "cell_type": "code",
      "execution_count": 6,
      "metadata": {
        "id": "yZ67LoOt6Ktd"
      },
      "outputs": [],
      "source": [
        "# Importação das bibliotecas necessárias\n",
        "import multiprocessing\n",
        "import random\n",
        "import time"
      ]
    },
    {
      "cell_type": "code",
      "source": [
        "def soma_partes(lista, inicio, final, resultado):\n",
        "  # Culculo da soma de uma das partes da lista\n",
        "  parcial = sum(lista[inicio:final])\n",
        "  resultado.value += parcial"
      ],
      "metadata": {
        "id": "b_v82NoX6OTF"
      },
      "execution_count": 7,
      "outputs": []
    },
    {
      "cell_type": "code",
      "source": [
        "if __name__ == '__main__':\n",
        "  N = 500 # Tamanho da lista\n",
        "  lista = [random.randint(1, 100) for _ in range(N)]\n",
        "\n",
        "  # Multiprocessing paralelo\n",
        "  numero_processos = multiprocessing.cpu_count() # Número de processos igual ao número de núcleos\n",
        "  tamanho_parte = N // numero_processos\n",
        "  resultado = multiprocessing.Value('i', 0) # Armazena o resultado (compartilhada)\n",
        "\n",
        "\n",
        "  processos = [] # Variavel com lista vazia para armazenar os numeros\n",
        "  # Loop para dividir a lista e iniciar os processos\n",
        "  for i in range(numero_processos):\n",
        "    inicio = i * tamanho_parte\n",
        "    final = (i + 1) * tamanho_parte\n",
        "    processo = multiprocessing.Process(target=soma_partes, args=(lista, inicio, final, resultado))\n",
        "    processos.append(processo)\n",
        "    processo.start()\n",
        "\n",
        "  # Contagem do tempo de processamento paralelo, iterações do processo e espera pela finalização dos processos\n",
        "  start_time = time.time()\n",
        "  for processo in processos:\n",
        "    processo.join()\n",
        "  end_time = time.time()\n",
        "\n",
        "  # Imprime os resultados de soma e de tempo do processamento paralelo\n",
        "  print(f'Soma paralela: {resultado.value}')\n",
        "  print(f'Tempo paralelo: {end_time - start_time} segundos')\n",
        "  print(' ')\n",
        "\n",
        "  # Contagem de tempo e soma do processamento serial\n",
        "  start_time = time.time()\n",
        "  soma_serial = sum(lista)\n",
        "  end_time = time.time()\n",
        "\n",
        "  # Imprime os resultados de soma e de tempo do processamento serial\n",
        "  print(f'Soma serial: {soma_serial}')\n",
        "  print(f'Tempo serial: {end_time - start_time} segundos')"
      ],
      "metadata": {
        "colab": {
          "base_uri": "https://localhost:8080/"
        },
        "collapsed": true,
        "id": "I8iw5TBC6i6t",
        "outputId": "69f693b0-6a4d-4733-c405-6e6983ffd0cc"
      },
      "execution_count": 8,
      "outputs": [
        {
          "output_type": "stream",
          "name": "stdout",
          "text": [
            "Soma paralela: 25203\n",
            "Tempo paralelo: 0.00754094123840332 segundos\n",
            " \n",
            "Soma serial: 25203\n",
            "Tempo serial: 1.1444091796875e-05 segundos\n"
          ]
        }
      ]
    }
  ]
}